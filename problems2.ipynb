{
 "cells": [
  {
   "cell_type": "code",
   "execution_count": null,
   "id": "31bb24e1",
   "metadata": {},
   "outputs": [],
   "source": [
    "# 1. Student Grades Analysis\n",
    "# You are given a 2D NumPy array grades where each row represents a student, and each column represents their score in a subject.\n",
    "\n",
    "\n",
    "# grades = np.array([\n",
    "#     [85, 90, 78, 92],\n",
    "#     [88, 76, 85, 80],\n",
    "#     [70, 65, 60, 75],\n",
    "#     [90, 92, 94, 96]\n",
    "# ])\n",
    "# Tasks:\n",
    "# Find the average score for each student.\n",
    "# Find the average score per subject.\n",
    "# Identify which students scored below 80 in all subjects.\n",
    "# Add 5 bonus points to students who scored below 70 in any subject.\n",
    "# Find the total and standard deviation of scores per student."
   ]
  },
  {
   "cell_type": "code",
   "execution_count": 9,
   "id": "b25911b4",
   "metadata": {},
   "outputs": [
    {
     "name": "stdout",
     "output_type": "stream",
     "text": [
      "[86.25 82.25 67.5  93.  ]\n",
      "[83.25 80.75 79.25 85.75]\n",
      "[[70 65 60 75]]\n",
      "[[ 90  95  83  97]\n",
      " [ 93  81  90  85]\n",
      " [ 75  70  65  80]\n",
      " [ 95  97  99 101]]\n",
      "[345 329 270 372]\n",
      "[5.4025457  4.60298816 5.59016994 2.23606798]\n"
     ]
    }
   ],
   "source": [
    "import numpy as np\n",
    "grades = np.array([\n",
    "    [85, 90, 78, 92],\n",
    "    [88, 76, 85, 80],\n",
    "    [70, 65, 60, 75],\n",
    "    [90, 92, 94, 96]\n",
    "])\n",
    "avg_score=np.average(grades,axis=1)\n",
    "print(avg_score)\n",
    "avg_score2=np.average(grades,axis=0)\n",
    "print(avg_score2)\n",
    "# Identify which students scored below 80 in all subjects.\n",
    "print(grades[np.all(grades<80,axis=1)])\n",
    "# Add 5 bonus points to students who scored below 70 in any subject.\n",
    "# print(grades[grades<70]+5) wrong\n",
    "copy_grades=grades.copy()\n",
    "copy_grades[np.any(copy_grades<70)]+=5\n",
    "print(copy_grades)\n",
    "# Find the total and standard deviation of scores per student.\n",
    "marks=np.sum(grades,axis=1)\n",
    "print(marks)\n",
    "sd=np.std(grades,axis=1)\n",
    "print(sd)"
   ]
  },
  {
   "cell_type": "code",
   "execution_count": 15,
   "id": "3f6f8edd",
   "metadata": {},
   "outputs": [],
   "source": [
    "# 2. Weather Data Processing\n",
    "# Given temperature readings (in Celsius) over 7 days in 3 different cities:\n",
    "# temps = np.array([\n",
    "#     [30, 32, 31, 29, 28, 27, 30],  # City A\n",
    "#     [25, 26, 24, 23, 22, 24, 25],  # City B\n",
    "#     [35, 36, 34, 33, 32, 31, 30]   # City C\n",
    "# ])\n",
    "# Tasks:\n",
    "# Convert all temperatures to Fahrenheit (use formula: F = C * 9/5 + 32).\n",
    "# Find the maximum and minimum temperature for each city.\n",
    "# Determine on which days City A had higher temperature than City C.\n",
    "# Find the average weekly temperature for each city."
   ]
  },
  {
   "cell_type": "code",
   "execution_count": null,
   "id": "b672af64",
   "metadata": {},
   "outputs": [
    {
     "name": "stdout",
     "output_type": "stream",
     "text": [
      "[[86.  89.6 87.8 84.2 82.4 80.6 86. ]\n",
      " [77.  78.8 75.2 73.4 71.6 75.2 77. ]\n",
      " [95.  96.8 93.2 91.4 89.6 87.8 86. ]]\n",
      "[32 26 36]\n",
      "[27 22 30]\n",
      "[29.57142857 24.14285714 33.        ]\n",
      "[False False False False False False False]\n"
     ]
    }
   ],
   "source": [
    "import numpy as np\n",
    "temps = np.array([\n",
    "    [30, 32, 31, 29, 28, 27, 30],  # City A\n",
    "    [25, 26, 24, 23, 22, 24, 25],  # City B\n",
    "    [35, 36, 34, 33, 32, 31, 30]   # City C\n",
    "])\n",
    "# Convert all temperatures to Fahrenheit (use formula: F = C * 9/5 + 32).\n",
    "f=temps*9/5+32\n",
    "print(f)\n",
    "# Find the maximum and minimum temperature for each city.\n",
    "maxi=np.max(temps,axis=1)\n",
    "mini=np.min(temps,axis=1)\n",
    "print(maxi)\n",
    "print(mini)\n",
    "# Find the average weekly temperature for each city.\n",
    "avg_temp=np.average(temps,axis=1)\n",
    "print(avg_temp)\n",
    "# Determine on which days City A had higher temperature than City C.\n",
    "np.all(temps[temps[0]>temps[2]])\n",
    "\n"
   ]
  },
  {
   "cell_type": "markdown",
   "id": "f73c0ee4",
   "metadata": {},
   "source": [
    "<!-- 3. Sales Commission Tracker\n",
    "A salesperson has weekly sales data for 4 weeks across 5 different products:\n",
    "\n",
    "sales = np.array([\n",
    "    [200, 180, 220, 240, 210],\n",
    "    [250, 260, 210, 200, 190],\n",
    "    [300, 310, 320, 330, 340],\n",
    "    [150, 140, 130, 120, 110]\n",
    "])\n",
    "Tasks:\n",
    "Calculate the total sales per product.\n",
    "Find the week with the highest total sales.\n",
    "Calculate the cumulative sales for each product.\n",
    "Identify the products whose average sales exceeded 250.\n",
    "Normalize sales data to a 0–1 scale using min-max scaling. -->"
   ]
  },
  {
   "cell_type": "code",
   "execution_count": null,
   "id": "2f8d0a44",
   "metadata": {},
   "outputs": [
    {
     "name": "stdout",
     "output_type": "stream",
     "text": [
      "[900 890 880 890 850]\n",
      "[1050 1110 1600  650]\n",
      "1600\n",
      " week with maximum sales is3\n"
     ]
    }
   ],
   "source": [
    "sales = np.array([\n",
    "    [200, 180, 220, 240, 210],\n",
    "    [250, 260, 210, 200, 190],\n",
    "    [300, 310, 320, 330, 340],\n",
    "    [150, 140, 130, 120, 110]\n",
    "])\n",
    "# Calculate the total sales per product.\n",
    "sales_product=np.sum(sales,axis=0)\n",
    "print(sales_product)\n",
    "# Find the week with the highest total sales.\n",
    "sales_week=np.sum(sales,axis=1)\n",
    "max_sales=np.max(sales_week,axis=0)\n",
    "print(sales_week)\n",
    "print(max_sales)\n",
    "print(f\" week with maximum sales is{np.argmax(sales_week)+1}\")\n",
    "# Calculate the cumulative sales for each product.\n",
    "cum_sale=np.cumulative_sum(sales,axis=0)\n",
    "print(cum_sale)\n"
   ]
  },
  {
   "cell_type": "markdown",
   "id": "612821db",
   "metadata": {},
   "source": [
    "<!-- 4.Employee Salary Analysis\n",
    "You are given the salary data of employees over 4 months:\n",
    "salaries = np.array([\n",
    "    [45000, 47000, 49000, 51000],\n",
    "    [40000, 42000, 44000, 46000],\n",
    "    [60000, 62000, 64000, 66000],\n",
    "    [38000, 39000, 41000, 43000]\n",
    "])\n",
    "Tasks:\n",
    "\n",
    "Find the total salary paid to each employee.\n",
    "Compute the average salary per month.\n",
    "Identify employees who always earned more than 40,000.\n",
    "Add a bonus of 2000 to all employees but cap the max salary to 65,000.\n",
    "Normalize the salary data to a 0–1 scale. -->"
   ]
  },
  {
   "cell_type": "code",
   "execution_count": 10,
   "id": "878a81c8",
   "metadata": {},
   "outputs": [
    {
     "name": "stdout",
     "output_type": "stream",
     "text": [
      "[192000 172000 252000 161000]\n",
      "[48000. 43000. 63000. 40250.]\n",
      "[ True False  True False]\n",
      "[[45000 47000 49000 51000]\n",
      " [60000 62000 64000 66000]]\n",
      "[[47000 49000 51000 53000]\n",
      " [42000 44000 46000 48000]\n",
      " [62000 64000 65000 65000]\n",
      " [40000 41000 43000 45000]]\n"
     ]
    }
   ],
   "source": [
    "import numpy as np\n",
    "salaries = np.array([\n",
    "    [45000, 47000, 49000, 51000],\n",
    "    [40000, 42000, 44000, 46000],\n",
    "    [60000, 62000, 64000, 66000],\n",
    "    [38000, 39000, 41000, 43000]\n",
    "])\n",
    "# Find the total salary paid to each employee.\n",
    "esal=np.sum(salaries,axis=1)\n",
    "print(esal)\n",
    "# Compute the average salary per month.\n",
    "avgsalry=np.average(salaries,axis=1)\n",
    "print(avgsalry)\n",
    "# Identify employees who always earned more than 40,000.\n",
    "mask=np.all(salaries>40000,axis=1)\n",
    "print(mask)\n",
    "# print(np.all(salaries[mask],axis=1))\n",
    "# np.all(salaries[mask],axis=1)\n",
    "print(salaries[mask])\n",
    "#Add a bonus of 2000 to all employees but cap the max salary to 65,000.\n",
    "# salaries+2000\n",
    "print(np.clip(salaries+2000,0,65000))\n",
    "\n"
   ]
  },
  {
   "cell_type": "markdown",
   "id": "40c9bc7c",
   "metadata": {},
   "source": [
    "<!-- 3. Product Sales Tracker\n",
    "python\n",
    "Copy\n",
    "Edit\n",
    "sales = np.array([\n",
    "    [10, 15, 20],\n",
    "    [25, 30, 35],\n",
    "    [40, 45, 50],\n",
    "    [55, 60, 65]\n",
    "])\n",
    "Tasks: row repesents weels and column represent product\n",
    "\n",
    "Find the total sales per product.\n",
    "Determine the week with the highest sales.\n",
    "Calculate the percentage of products that sold over 40 units.\n",
    "Perform min-max normalization across the full matrix.\n",
    "Replace all sales below 30 with 0 using masking. -->"
   ]
  },
  {
   "cell_type": "code",
   "execution_count": 14,
   "id": "40d2d7b1",
   "metadata": {},
   "outputs": [
    {
     "name": "stdout",
     "output_type": "stream",
     "text": [
      "[130 150 170]\n",
      "3\n",
      "41.66666666666667\n"
     ]
    }
   ],
   "source": [
    "import numpy as np\n",
    "sales = np.array([\n",
    "    [10, 15, 20],\n",
    "    [25, 30, 35],\n",
    "    [40, 45, 50],\n",
    "    [55, 60, 65]\n",
    "])\n",
    "productsales=np.sum(sales,axis=0)\n",
    "print(productsales)\n",
    "# Determine the week with the highest sales\n",
    "print(np.argmax(np.sum(sales,axis=1)))\n",
    "# Calculate the percentage of products that sold over 40 units.\n",
    "sales40=sales>40\n",
    "count1=np.sum(sales40)\n",
    "totalsales=np.size(sales)\n",
    "print(count1/totalsales *100)\n"
   ]
  },
  {
   "cell_type": "code",
   "execution_count": null,
   "id": "bd90bf8d",
   "metadata": {},
   "outputs": [],
   "source": []
  }
 ],
 "metadata": {
  "kernelspec": {
   "display_name": ".venv",
   "language": "python",
   "name": "python3"
  },
  "language_info": {
   "codemirror_mode": {
    "name": "ipython",
    "version": 3
   },
   "file_extension": ".py",
   "mimetype": "text/x-python",
   "name": "python",
   "nbconvert_exporter": "python",
   "pygments_lexer": "ipython3",
   "version": "3.13.3"
  }
 },
 "nbformat": 4,
 "nbformat_minor": 5
}
