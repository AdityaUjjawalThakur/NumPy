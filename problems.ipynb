{
 "cells": [
  {
   "cell_type": "code",
   "execution_count": 4,
   "id": "ddab98ac",
   "metadata": {},
   "outputs": [
    {
     "name": "stdout",
     "output_type": "stream",
     "text": [
      "[False False False  True False False False  True False  True]\n",
      "3\n"
     ]
    }
   ],
   "source": [
    "import numpy as np\n",
    "temps = np.array([35.5, 36.1, 37.8, 39.2, 38.0, 36.5, 35.0, 40.1, 37.0, 38.5])\n",
    "# Find how many temperatures are above 38°C.\n",
    "\n",
    "# Extract all temperature readings between 36°C and 38°C.\n",
    "\n",
    "# Convert all the temperatures to Fahrenheit.\n",
    "t=temps>38\n",
    "print(t)\n",
    "tt=temps[t]\n",
    "print(tt.size)\n"
   ]
  },
  {
   "cell_type": "code",
   "execution_count": null,
   "id": "3a7fd210",
   "metadata": {},
   "outputs": [],
   "source": [
    "scores = np.array([\n",
    "    [45, 78, 82],\n",
    "    [92, 88, 95],\n",
    "    [55, 61, 60],\n",
    "    [30, 40, 38]\n",
    "])\n",
    "# Find the average score for each student.\n",
    "# Select all students who scored more than 60 in all subjects.\n",
    "# Increase each student's scores by 5 bonus points, but cap the max score at 100.\n",
    "avg=np.mean(scores)\n",
    "student=scores>60  #check all the values and give true and false\n",
    "print(student)\n",
    "print(np.all(scores>60,axis=1)) # axis =1 mean it will check for all values in a row and return truw for a row if all values follow the consition and we will have a 1 d array representing which rows completely follow the condition\n",
    "print(scores[np.all(scores>60,axis=1)]) # it takes a 1 d array and put gives rows is score which represent true\n",
    "marks=scores+5\n",
    "print(marks)\n",
    "print(avg)"
   ]
  },
  {
   "cell_type": "code",
   "execution_count": 16,
   "id": "953483f9",
   "metadata": {},
   "outputs": [
    {
     "name": "stdout",
     "output_type": "stream",
     "text": [
      "[1000 1000 -500 2000]\n",
      "[ 8.33333333  6.66666667 -2.77777778 11.76470588]\n",
      "[17000]\n"
     ]
    }
   ],
   "source": [
    "sales_q1 = np.array([12000, 15000, 18000, 17000])\n",
    "sales_q2 = np.array([13000, 16000, 17500, 19000])\n",
    "# Calculate absolute growth for each region.\n",
    "# Calculate percentage growth.\n",
    "# Identify which regions had over 10% growth.\n",
    "absolutegrowth=sales_q2-sales_q1\n",
    "print(absolutegrowth)\n",
    "percentage_growth=(sales_q2-sales_q1)/sales_q1 *100\n",
    "print(percentage_growth)\n",
    "reigon=percentage_growth>10\n",
    "print(sales_q1[reigon])\n"
   ]
  },
  {
   "cell_type": "code",
   "execution_count": null,
   "id": "974ef510",
   "metadata": {},
   "outputs": [
    {
     "name": "stdout",
     "output_type": "stream",
     "text": [
      "[200 220 240]\n"
     ]
    }
   ],
   "source": [
    "image = np.array([\n",
    "    [100, 150, 200],\n",
    "    [120, 180, 220],\n",
    "    [90,  140, 240]\n",
    "])\n",
    "#You have a grayscale image represented as a 3x3 array:\n",
    "# Find all pixel values greater than 180.\n",
    "pixel30=image[image>180]\n",
    "print(pixel30)\n",
    "# Replace all values > 180 with 180 (simulate contrast limiting).\n",
    "\n",
    "# Flatten the image into a 1D array.\n",
    "print(image.flatten())\n",
    "\n"
   ]
  },
  {
   "cell_type": "code",
   "execution_count": null,
   "id": "343eadaa",
   "metadata": {},
   "outputs": [],
   "source": []
  }
 ],
 "metadata": {
  "kernelspec": {
   "display_name": ".venv",
   "language": "python",
   "name": "python3"
  },
  "language_info": {
   "codemirror_mode": {
    "name": "ipython",
    "version": 3
   },
   "file_extension": ".py",
   "mimetype": "text/x-python",
   "name": "python",
   "nbconvert_exporter": "python",
   "pygments_lexer": "ipython3",
   "version": "3.13.3"
  }
 },
 "nbformat": 4,
 "nbformat_minor": 5
}
